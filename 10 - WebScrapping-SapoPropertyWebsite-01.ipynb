{
 "cells": [
  {
   "cell_type": "markdown",
   "metadata": {},
   "source": [
    "# Web Scraping using Beautiful Soup"
   ]
  },
  {
   "cell_type": "markdown",
   "metadata": {},
   "source": [
    "Objective: Web Scraping using Beautiful Soup  \n",
    "Ref: https://towardsdatascience.com/looking-for-a-house-build-a-web-scraper-to-help-you-5ab25badc83e"
   ]
  },
  {
   "cell_type": "code",
   "execution_count": 1,
   "metadata": {},
   "outputs": [],
   "source": [
    "from bs4 import BeautifulSoup\n",
    "from requests import get\n",
    "import pandas as pd\n",
    "import itertools\n",
    "import matplotlib.pyplot as plt\n",
    "import seaborn as sns\n",
    "sns.set()"
   ]
  },
  {
   "cell_type": "code",
   "execution_count": 2,
   "metadata": {},
   "outputs": [],
   "source": [
    "headers = ({'User-Agent':\n",
    "            'Mozilla/5.0 (Windows NT 6.1) AppleWebKit/537.36 (KHTML, like Gecko) Chrome/41.0.2228.0 Safari/537.36'})"
   ]
  },
  {
   "cell_type": "markdown",
   "metadata": {},
   "source": [
    "## Set Website and Test Communication"
   ]
  },
  {
   "cell_type": "code",
   "execution_count": 3,
   "metadata": {},
   "outputs": [
    {
     "name": "stdout",
     "output_type": "stream",
     "text": [
      "<Response [200]>\n"
     ]
    }
   ],
   "source": [
    "sapo = \"https://casa.sapo.pt/en_GB/For-sale/Apartments/Most-recent/?sa=11&lp=10000\"\n",
    "response = get(sapo, headers=headers)\n",
    "print(response)"
   ]
  },
  {
   "cell_type": "code",
   "execution_count": 4,
   "metadata": {},
   "outputs": [
    {
     "name": "stdout",
     "output_type": "stream",
     "text": [
      "\r\n",
      "\r\n",
      "<!DOCTYPE html>\r\n",
      "\r\n",
      "<html lang=\"en-GB\">\r\n",
      "<head><title>\r\n",
      "\tHouses for sale, Apartments Most recent, from 10,000 € in Distrito de Lisboa, CASA SAPO - Portugal´s Real Estate Portal\r\n",
      "</title><meta name=\"author\" content=\"CASA SAPO - Portugal´s Real Estate Portal - Janela Digital SA\" />\r\n",
      "    <meta name=\"application-name\" content=\"CASA SAPO - Portugal´s Real Estate Portal\" data-copyright=\"Janela Digital SA\" data-generated-time=\"10/03/2019 08:57\" />\r\n",
      "    \r\n",
      "<meta name=\"content-language\" content=\"en-GB\" />\r\n",
      "<meta name=\"viewport\" content=\"width=device-width, initial-scale=1.0\" />\r\n",
      "<meta name=\"description\" content=\"Houses for sale, Apartments Most recent, from 10,000 € in Distrito de Lisboa, Houses for sale, Do you wish to buy a house In the leading National Real Estate Portal we have thousands of apartments and detached houses in Lisbon, Oporti and all over the country.\" />\r\n",
      "<meta name=\"keywords\" content=\"Houses for sale, Apartments Most recent, from 10,000 € in Distrito de Lisboa, Houses for s\n"
     ]
    }
   ],
   "source": [
    "print(response.text[:1000])"
   ]
  },
  {
   "cell_type": "markdown",
   "metadata": {},
   "source": [
    "## Create Container"
   ]
  },
  {
   "cell_type": "code",
   "execution_count": 5,
   "metadata": {},
   "outputs": [
    {
     "name": "stdout",
     "output_type": "stream",
     "text": [
      "Number of items in the container : 25\n"
     ]
    }
   ],
   "source": [
    "html_soup = BeautifulSoup(response.text, 'html.parser')\n",
    "house_containers = html_soup.find_all('div', class_=\"searchResultProperty\")\n",
    "print(\"Number of items in the container :\", len(house_containers))"
   ]
  },
  {
   "cell_type": "markdown",
   "metadata": {},
   "source": [
    "## Data / Variable Extraction"
   ]
  },
  {
   "cell_type": "code",
   "execution_count": 6,
   "metadata": {},
   "outputs": [
    {
     "data": {
      "text/plain": [
       "[<span>\n",
       "                         Apartment 3 Bedrooms, Alfragide, Amadora\n",
       "                     </span>,\n",
       " <span class=\"btnContactPVPI\" id=\"MC_PropertyInList_repProperties_btnContactPVPINormal_0\" onclick=\"ShowContactForm('9a5c218b-42ea-11e9-ba04-060000000051', '13', '5', false); return false;\" style=\"z-index: 9999;\">Contact Promoter</span>,\n",
       " <span>225,000 <strong title=\"Euro\">€</strong></span>]"
      ]
     },
     "execution_count": 6,
     "metadata": {},
     "output_type": "execute_result"
    }
   ],
   "source": [
    "first = house_containers[0]\n",
    "first.find_all('span')"
   ]
  },
  {
   "cell_type": "code",
   "execution_count": 7,
   "metadata": {},
   "outputs": [
    {
     "data": {
      "text/plain": [
       "[<p class=\"searchPropertyTitle\">\n",
       " <span>\n",
       "                         Apartment 3 Bedrooms, Alfragide, Amadora\n",
       "                     </span>\n",
       " </p>, <p class=\"searchPropertyLocation\">\n",
       "                     Alfragide, Amadora\n",
       "                 </p>, <p>\n",
       "                                 For sale\n",
       "                             </p>, <p>\n",
       " <span>225,000 <strong title=\"Euro\">€</strong></span>\n",
       " </p>, <p>Condition</p>, <p>Used</p>, <p>Net Area</p>, <p>85m²</p>, <p>Floor Area</p>, <p>128m²</p>, <p>Construction Area</p>, <p>-</p>, <p class=\"searchPropertyDescription\">\n",
       " </p>]"
      ]
     },
     "execution_count": 7,
     "metadata": {},
     "output_type": "execute_result"
    }
   ],
   "source": [
    "first.find_all('p')"
   ]
  },
  {
   "cell_type": "code",
   "execution_count": 8,
   "metadata": {},
   "outputs": [
    {
     "name": "stdout",
     "output_type": "stream",
     "text": [
      "Apartment 3 Bedrooms, Alfragide, Amadora\n"
     ]
    }
   ],
   "source": [
    "#Property Title\n",
    "var1 = first.findAll(\"span\")[0].text.strip()\n",
    "print(var1)"
   ]
  },
  {
   "cell_type": "code",
   "execution_count": 9,
   "metadata": {},
   "outputs": [
    {
     "name": "stdout",
     "output_type": "stream",
     "text": [
      "Alfragide, Amadora\n"
     ]
    }
   ],
   "source": [
    "#Location\n",
    "var2 = first.find_all('p')[1].text.strip()\n",
    "print(var2)"
   ]
  },
  {
   "cell_type": "code",
   "execution_count": 10,
   "metadata": {},
   "outputs": [
    {
     "name": "stdout",
     "output_type": "stream",
     "text": [
      "For sale\n"
     ]
    }
   ],
   "source": [
    "#Type\n",
    "var3 = first.find_all('p')[2].text.strip()\n",
    "print(var3)"
   ]
  },
  {
   "cell_type": "code",
   "execution_count": 11,
   "metadata": {},
   "outputs": [
    {
     "name": "stdout",
     "output_type": "stream",
     "text": [
      "225000\n",
      "<class 'int'>\n"
     ]
    }
   ],
   "source": [
    "#Price\n",
    "varx = first.find_all('p')[3].text.replace(',','').replace('€','').strip()\n",
    "var4 = int(''.join(itertools.takewhile(str.isdigit, varx)))\n",
    "print(var4)\n",
    "print(type(var4))"
   ]
  },
  {
   "cell_type": "code",
   "execution_count": 12,
   "metadata": {},
   "outputs": [
    {
     "name": "stdout",
     "output_type": "stream",
     "text": [
      "Used\n"
     ]
    }
   ],
   "source": [
    "#Condition\n",
    "var5 = first.find_all('p')[5].text.strip()\n",
    "print(var5)"
   ]
  },
  {
   "cell_type": "code",
   "execution_count": 13,
   "metadata": {},
   "outputs": [
    {
     "name": "stdout",
     "output_type": "stream",
     "text": [
      "85m²\n"
     ]
    }
   ],
   "source": [
    "#Net Area\n",
    "var6 = first.find_all('p')[7].text.strip()\n",
    "print(var6)"
   ]
  },
  {
   "cell_type": "code",
   "execution_count": 14,
   "metadata": {},
   "outputs": [
    {
     "name": "stdout",
     "output_type": "stream",
     "text": [
      "128m²\n"
     ]
    }
   ],
   "source": [
    "#Floor Area\n",
    "var7 = first.find_all('p')[9].text.strip()\n",
    "print(var7)"
   ]
  },
  {
   "cell_type": "code",
   "execution_count": 15,
   "metadata": {},
   "outputs": [
    {
     "name": "stdout",
     "output_type": "stream",
     "text": [
      "-\n"
     ]
    }
   ],
   "source": [
    "#Construction Area\n",
    "var8 = first.find_all('p')[11].text.strip()\n",
    "print(var8)"
   ]
  },
  {
   "cell_type": "markdown",
   "metadata": {},
   "source": [
    "## Declare Dataframe Formation"
   ]
  },
  {
   "cell_type": "code",
   "execution_count": 16,
   "metadata": {},
   "outputs": [],
   "source": [
    "titles = []\n",
    "locations = []\n",
    "ptypes = []\n",
    "prices = []\n",
    "conditions = []\n",
    "net_areas = []\n",
    "floor_areas = []\n",
    "construct_areas = []"
   ]
  },
  {
   "cell_type": "markdown",
   "metadata": {},
   "source": [
    "## Scrap Data from Loop Pages"
   ]
  },
  {
   "cell_type": "code",
   "execution_count": 17,
   "metadata": {},
   "outputs": [
    {
     "name": "stdout",
     "output_type": "stream",
     "text": [
      "At least 1 pages scrapped, containing 25 properties.\n",
      "Wall time: 1.79 s\n"
     ]
    }
   ],
   "source": [
    "%%time\n",
    "n_pages = 0\n",
    "\n",
    "for page in range(0,100):\n",
    "    n_pages +=1\n",
    "    sapo_url = 'https://casa.sapo.pt/Venda/Apartamentos/?sa=11&lp=10000&or=10'+'&pn='+str(page)\n",
    "    #sapo_url = 'https://casa.sapo.pt/en_GB/For-sale/Apartments/Most-recent/?sa=11&lp=10000&pn='+str(page)\n",
    "    r = get(sapo_url, headers = headers)\n",
    "    page_html = BeautifulSoup(r.text, 'html.parser')\n",
    "    containers = page_html.find_all('div', class_=\"searchResultProperty\")\n",
    "    \n",
    "    if containers != []:\n",
    "        for container in containers:\n",
    "            \n",
    "            #titles = []\n",
    "            title = container.findAll(\"span\")[0].text.strip()\n",
    "            titles.append(title)\n",
    "            \n",
    "            #locations = []\n",
    "            location = container.find_all('p')[1].text.strip()\n",
    "            locations.append(location)\n",
    "            \n",
    "            #ptypes = []\n",
    "            ptype = container.find_all('p')[2].text.strip()\n",
    "            ptypes.append(ptype)\n",
    "            \n",
    "            #prices = []\n",
    "            varx = container.find_all('p')[3].text.replace(',','').replace('€','').strip()\n",
    "            price = int(''.join(itertools.takewhile(str.isdigit, varx)))\n",
    "            prices.append(price)\n",
    "            \n",
    "            #conditions = []\n",
    "            condition = container.find_all('p')[5].text.strip()\n",
    "            conditions.append(condition)\n",
    "            \n",
    "            #net_areas = []\n",
    "            net_area = container.find_all('p')[7].text.strip()\n",
    "            net_areas.append(net_area)\n",
    "            \n",
    "            #floor_areas = []\n",
    "            floor_area = container.find_all('p')[9].text.strip()\n",
    "            floor_areas.append(floor_area)\n",
    "            \n",
    "            #construct_areas = []\n",
    "            construct_area = container.find_all('p')[11].text.strip()\n",
    "            construct_areas.append(construct_area)\n",
    "        else:\n",
    "            break\n",
    "        sleep(ranint(1,2))\n",
    "\n",
    "print('At least {} pages scrapped, containing {} properties.' .format(n_pages, len(titles)))"
   ]
  },
  {
   "cell_type": "code",
   "execution_count": 18,
   "metadata": {},
   "outputs": [
    {
     "data": {
      "text/html": [
       "<div>\n",
       "<style scoped>\n",
       "    .dataframe tbody tr th:only-of-type {\n",
       "        vertical-align: middle;\n",
       "    }\n",
       "\n",
       "    .dataframe tbody tr th {\n",
       "        vertical-align: top;\n",
       "    }\n",
       "\n",
       "    .dataframe thead th {\n",
       "        text-align: right;\n",
       "    }\n",
       "</style>\n",
       "<table border=\"1\" class=\"dataframe\">\n",
       "  <thead>\n",
       "    <tr style=\"text-align: right;\">\n",
       "      <th></th>\n",
       "      <th>v1</th>\n",
       "      <th>v2</th>\n",
       "      <th>v3</th>\n",
       "      <th>v4</th>\n",
       "      <th>v5</th>\n",
       "      <th>v6</th>\n",
       "      <th>v7</th>\n",
       "      <th>v8</th>\n",
       "    </tr>\n",
       "  </thead>\n",
       "  <tbody>\n",
       "    <tr>\n",
       "      <th>0</th>\n",
       "      <td></td>\n",
       "      <td>Alfragide, Amadora</td>\n",
       "      <td>Venda</td>\n",
       "      <td>225</td>\n",
       "      <td>Usado</td>\n",
       "      <td>85m²</td>\n",
       "      <td>128m²</td>\n",
       "      <td>-</td>\n",
       "    </tr>\n",
       "    <tr>\n",
       "      <th>1</th>\n",
       "      <td>Estúdio, Santa Maria Maior, Lisboa</td>\n",
       "      <td>Santa Maria Maior, Lisboa</td>\n",
       "      <td>Venda</td>\n",
       "      <td>150</td>\n",
       "      <td>Usado</td>\n",
       "      <td>15m²</td>\n",
       "      <td>16m²</td>\n",
       "      <td>-</td>\n",
       "    </tr>\n",
       "    <tr>\n",
       "      <th>2</th>\n",
       "      <td>Apartamento T4, Conquinha (São Pedro e Santiag...</td>\n",
       "      <td>Conquinha (São Pedro e Santiago), S.P., Santia...</td>\n",
       "      <td>Venda</td>\n",
       "      <td>269</td>\n",
       "      <td>Recuperado</td>\n",
       "      <td>170m²</td>\n",
       "      <td>185m²</td>\n",
       "      <td>-</td>\n",
       "    </tr>\n",
       "    <tr>\n",
       "      <th>3</th>\n",
       "      <td>Apartamento T2, Quinta das Flores (Santo Antón...</td>\n",
       "      <td>Quinta das Flores (Santo António de Cavaleiros...</td>\n",
       "      <td>Venda</td>\n",
       "      <td>160</td>\n",
       "      <td>Usado</td>\n",
       "      <td>80m²</td>\n",
       "      <td>86m²</td>\n",
       "      <td>-</td>\n",
       "    </tr>\n",
       "    <tr>\n",
       "      <th>4</th>\n",
       "      <td>Apartamento T2, Estrela (Lapa), Estrela, Lisboa</td>\n",
       "      <td>Estrela (Lapa), Estrela, Lisboa</td>\n",
       "      <td>Venda</td>\n",
       "      <td>495</td>\n",
       "      <td>Recuperado</td>\n",
       "      <td>115m²</td>\n",
       "      <td>-</td>\n",
       "      <td>-</td>\n",
       "    </tr>\n",
       "    <tr>\n",
       "      <th>5</th>\n",
       "      <td>Apartamento T2, Centro (Bobadela), Santa Iria ...</td>\n",
       "      <td>Centro (Bobadela), Santa Iria de Azoia, São Jo...</td>\n",
       "      <td>Venda</td>\n",
       "      <td>239</td>\n",
       "      <td>Renovado</td>\n",
       "      <td>-</td>\n",
       "      <td>95m²</td>\n",
       "      <td>-</td>\n",
       "    </tr>\n",
       "    <tr>\n",
       "      <th>6</th>\n",
       "      <td>Apartamento T2, Moinhos da Funcheira (São Brás...</td>\n",
       "      <td>Moinhos da Funcheira (São Brás), Mina de Água,...</td>\n",
       "      <td>Venda</td>\n",
       "      <td>120</td>\n",
       "      <td>Usado</td>\n",
       "      <td>78m²</td>\n",
       "      <td>85m²</td>\n",
       "      <td>-</td>\n",
       "    </tr>\n",
       "    <tr>\n",
       "      <th>7</th>\n",
       "      <td>Apartamento T2, Ericeira, Mafra</td>\n",
       "      <td>Ericeira, Mafra</td>\n",
       "      <td>Venda</td>\n",
       "      <td>190</td>\n",
       "      <td>Usado</td>\n",
       "      <td>-</td>\n",
       "      <td>-</td>\n",
       "      <td>-</td>\n",
       "    </tr>\n",
       "    <tr>\n",
       "      <th>8</th>\n",
       "      <td>Apartamento T2, Pontinha e Famões, Odivelas</td>\n",
       "      <td>Pontinha e Famões, Odivelas</td>\n",
       "      <td>Venda</td>\n",
       "      <td>149</td>\n",
       "      <td>Usado</td>\n",
       "      <td>63m²</td>\n",
       "      <td>63m²</td>\n",
       "      <td>63m²</td>\n",
       "    </tr>\n",
       "    <tr>\n",
       "      <th>9</th>\n",
       "      <td>Apartamento T1, Santa Maria Maior, Lisboa</td>\n",
       "      <td>Santa Maria Maior, Lisboa</td>\n",
       "      <td>Venda</td>\n",
       "      <td>285</td>\n",
       "      <td>Usado</td>\n",
       "      <td>40m²</td>\n",
       "      <td>40m²</td>\n",
       "      <td>40m²</td>\n",
       "    </tr>\n",
       "    <tr>\n",
       "      <th>10</th>\n",
       "      <td></td>\n",
       "      <td>Ericeira, Mafra</td>\n",
       "      <td>Venda</td>\n",
       "      <td>185</td>\n",
       "      <td>Usado</td>\n",
       "      <td>89m²</td>\n",
       "      <td>137m²</td>\n",
       "      <td>-</td>\n",
       "    </tr>\n",
       "    <tr>\n",
       "      <th>11</th>\n",
       "      <td>Apartamento T3, Carnaxide e Queijas, Oeiras</td>\n",
       "      <td>Carnaxide e Queijas, Oeiras</td>\n",
       "      <td>Venda</td>\n",
       "      <td>249</td>\n",
       "      <td>Renovado</td>\n",
       "      <td>95m²</td>\n",
       "      <td>110m²</td>\n",
       "      <td>-</td>\n",
       "    </tr>\n",
       "    <tr>\n",
       "      <th>12</th>\n",
       "      <td></td>\n",
       "      <td>Centro , Ericeira, Mafra</td>\n",
       "      <td>Venda</td>\n",
       "      <td>250</td>\n",
       "      <td>Usado</td>\n",
       "      <td>65m²</td>\n",
       "      <td>-</td>\n",
       "      <td>-</td>\n",
       "    </tr>\n",
       "    <tr>\n",
       "      <th>13</th>\n",
       "      <td>Penthouse T6 Duplex, Belas Clube de Campo (Bel...</td>\n",
       "      <td>Belas Clube de Campo (Belas), Queluz e Belas, ...</td>\n",
       "      <td>Venda</td>\n",
       "      <td>580</td>\n",
       "      <td>Usado</td>\n",
       "      <td>237m²</td>\n",
       "      <td>405m²</td>\n",
       "      <td>-</td>\n",
       "    </tr>\n",
       "    <tr>\n",
       "      <th>14</th>\n",
       "      <td>Apartamento T4, Cascais e Estoril, Cascais</td>\n",
       "      <td>Cascais e Estoril, Cascais</td>\n",
       "      <td>Venda</td>\n",
       "      <td>850</td>\n",
       "      <td>Usado</td>\n",
       "      <td>180m²</td>\n",
       "      <td>200m²</td>\n",
       "      <td>-</td>\n",
       "    </tr>\n",
       "    <tr>\n",
       "      <th>15</th>\n",
       "      <td>Apartamento T4, Areeiro, Lisboa</td>\n",
       "      <td>Areeiro, Lisboa</td>\n",
       "      <td>Venda</td>\n",
       "      <td>990</td>\n",
       "      <td>Usado</td>\n",
       "      <td>186m²</td>\n",
       "      <td>202m²</td>\n",
       "      <td>-</td>\n",
       "    </tr>\n",
       "    <tr>\n",
       "      <th>16</th>\n",
       "      <td>Apartamento T3, Oeiras e São Julião da Barra, ...</td>\n",
       "      <td>Oeiras e São Julião da Barra, Paço de Arcos e ...</td>\n",
       "      <td>Venda</td>\n",
       "      <td>265</td>\n",
       "      <td>Usado</td>\n",
       "      <td>108m²</td>\n",
       "      <td>108m²</td>\n",
       "      <td>-</td>\n",
       "    </tr>\n",
       "    <tr>\n",
       "      <th>17</th>\n",
       "      <td></td>\n",
       "      <td>Algueirão-Mem Martins, Sintra</td>\n",
       "      <td>Venda</td>\n",
       "      <td>174</td>\n",
       "      <td>Usado</td>\n",
       "      <td>102m²</td>\n",
       "      <td>129m²</td>\n",
       "      <td>-</td>\n",
       "    </tr>\n",
       "    <tr>\n",
       "      <th>18</th>\n",
       "      <td>Apartamento T2, Fórum Oeiras (Oeiras e São Jul...</td>\n",
       "      <td>Fórum Oeiras (Oeiras e São Julião Barra), Oeir...</td>\n",
       "      <td>Venda</td>\n",
       "      <td>450</td>\n",
       "      <td>Novo</td>\n",
       "      <td>135m²</td>\n",
       "      <td>147m²</td>\n",
       "      <td>-</td>\n",
       "    </tr>\n",
       "    <tr>\n",
       "      <th>19</th>\n",
       "      <td>Apartamento T3, Oeiras e São Julião da Barra, ...</td>\n",
       "      <td>Oeiras e São Julião da Barra, Paço de Arcos e ...</td>\n",
       "      <td>Venda</td>\n",
       "      <td>915</td>\n",
       "      <td>Usado</td>\n",
       "      <td>182m²</td>\n",
       "      <td>182m²</td>\n",
       "      <td>2 104m²</td>\n",
       "    </tr>\n",
       "    <tr>\n",
       "      <th>20</th>\n",
       "      <td>Apartamento T1, Centro (Cacém), Cacém e São Ma...</td>\n",
       "      <td>Centro (Cacém), Cacém e São Marcos, Sintra</td>\n",
       "      <td>Venda</td>\n",
       "      <td>95</td>\n",
       "      <td>Renovado</td>\n",
       "      <td>55m²</td>\n",
       "      <td>60m²</td>\n",
       "      <td>-</td>\n",
       "    </tr>\n",
       "    <tr>\n",
       "      <th>21</th>\n",
       "      <td>Apartamento T3, Tapada da Mercês, Algueirão-Me...</td>\n",
       "      <td>Tapada da Mercês, Algueirão-Mem Martins, Sintra</td>\n",
       "      <td>Venda</td>\n",
       "      <td>132</td>\n",
       "      <td>Renovado</td>\n",
       "      <td>100m²</td>\n",
       "      <td>110m²</td>\n",
       "      <td>-</td>\n",
       "    </tr>\n",
       "    <tr>\n",
       "      <th>22</th>\n",
       "      <td>Apartamento T5+1, Alameda (São Jorge de Arroio...</td>\n",
       "      <td>Alameda (São Jorge de Arroios), Arroios, Lisboa</td>\n",
       "      <td>Venda</td>\n",
       "      <td>500</td>\n",
       "      <td>Recuperado</td>\n",
       "      <td>126m²</td>\n",
       "      <td>120m²</td>\n",
       "      <td>350m²</td>\n",
       "    </tr>\n",
       "    <tr>\n",
       "      <th>23</th>\n",
       "      <td>Apartamento T2, Avenidas Novas, Lisboa</td>\n",
       "      <td>Avenidas Novas, Lisboa</td>\n",
       "      <td>Venda</td>\n",
       "      <td>875</td>\n",
       "      <td>Usado</td>\n",
       "      <td>106m²</td>\n",
       "      <td>106m²</td>\n",
       "      <td>106m²</td>\n",
       "    </tr>\n",
       "    <tr>\n",
       "      <th>24</th>\n",
       "      <td>Apartamento T1, Penha de França, Penha de Fran...</td>\n",
       "      <td>Penha de França, Penha de França, Lisboa</td>\n",
       "      <td>Venda</td>\n",
       "      <td>182</td>\n",
       "      <td>Usado</td>\n",
       "      <td>70m²</td>\n",
       "      <td>70m²</td>\n",
       "      <td>86m²</td>\n",
       "    </tr>\n",
       "  </tbody>\n",
       "</table>\n",
       "</div>"
      ],
      "text/plain": [
       "                                                   v1  \\\n",
       "0                                                       \n",
       "1                  Estúdio, Santa Maria Maior, Lisboa   \n",
       "2   Apartamento T4, Conquinha (São Pedro e Santiag...   \n",
       "3   Apartamento T2, Quinta das Flores (Santo Antón...   \n",
       "4     Apartamento T2, Estrela (Lapa), Estrela, Lisboa   \n",
       "5   Apartamento T2, Centro (Bobadela), Santa Iria ...   \n",
       "6   Apartamento T2, Moinhos da Funcheira (São Brás...   \n",
       "7                     Apartamento T2, Ericeira, Mafra   \n",
       "8         Apartamento T2, Pontinha e Famões, Odivelas   \n",
       "9           Apartamento T1, Santa Maria Maior, Lisboa   \n",
       "10                                                      \n",
       "11        Apartamento T3, Carnaxide e Queijas, Oeiras   \n",
       "12                                                      \n",
       "13  Penthouse T6 Duplex, Belas Clube de Campo (Bel...   \n",
       "14         Apartamento T4, Cascais e Estoril, Cascais   \n",
       "15                    Apartamento T4, Areeiro, Lisboa   \n",
       "16  Apartamento T3, Oeiras e São Julião da Barra, ...   \n",
       "17                                                      \n",
       "18  Apartamento T2, Fórum Oeiras (Oeiras e São Jul...   \n",
       "19  Apartamento T3, Oeiras e São Julião da Barra, ...   \n",
       "20  Apartamento T1, Centro (Cacém), Cacém e São Ma...   \n",
       "21  Apartamento T3, Tapada da Mercês, Algueirão-Me...   \n",
       "22  Apartamento T5+1, Alameda (São Jorge de Arroio...   \n",
       "23             Apartamento T2, Avenidas Novas, Lisboa   \n",
       "24  Apartamento T1, Penha de França, Penha de Fran...   \n",
       "\n",
       "                                                   v2     v3   v4          v5  \\\n",
       "0                                  Alfragide, Amadora  Venda  225       Usado   \n",
       "1                           Santa Maria Maior, Lisboa  Venda  150       Usado   \n",
       "2   Conquinha (São Pedro e Santiago), S.P., Santia...  Venda  269  Recuperado   \n",
       "3   Quinta das Flores (Santo António de Cavaleiros...  Venda  160       Usado   \n",
       "4                     Estrela (Lapa), Estrela, Lisboa  Venda  495  Recuperado   \n",
       "5   Centro (Bobadela), Santa Iria de Azoia, São Jo...  Venda  239    Renovado   \n",
       "6   Moinhos da Funcheira (São Brás), Mina de Água,...  Venda  120       Usado   \n",
       "7                                     Ericeira, Mafra  Venda  190       Usado   \n",
       "8                         Pontinha e Famões, Odivelas  Venda  149       Usado   \n",
       "9                           Santa Maria Maior, Lisboa  Venda  285       Usado   \n",
       "10                                    Ericeira, Mafra  Venda  185       Usado   \n",
       "11                        Carnaxide e Queijas, Oeiras  Venda  249    Renovado   \n",
       "12                           Centro , Ericeira, Mafra  Venda  250       Usado   \n",
       "13  Belas Clube de Campo (Belas), Queluz e Belas, ...  Venda  580       Usado   \n",
       "14                         Cascais e Estoril, Cascais  Venda  850       Usado   \n",
       "15                                    Areeiro, Lisboa  Venda  990       Usado   \n",
       "16  Oeiras e São Julião da Barra, Paço de Arcos e ...  Venda  265       Usado   \n",
       "17                      Algueirão-Mem Martins, Sintra  Venda  174       Usado   \n",
       "18  Fórum Oeiras (Oeiras e São Julião Barra), Oeir...  Venda  450        Novo   \n",
       "19  Oeiras e São Julião da Barra, Paço de Arcos e ...  Venda  915       Usado   \n",
       "20         Centro (Cacém), Cacém e São Marcos, Sintra  Venda   95    Renovado   \n",
       "21    Tapada da Mercês, Algueirão-Mem Martins, Sintra  Venda  132    Renovado   \n",
       "22    Alameda (São Jorge de Arroios), Arroios, Lisboa  Venda  500  Recuperado   \n",
       "23                             Avenidas Novas, Lisboa  Venda  875       Usado   \n",
       "24           Penha de França, Penha de França, Lisboa  Venda  182       Usado   \n",
       "\n",
       "       v6     v7       v8  \n",
       "0    85m²  128m²        -  \n",
       "1    15m²   16m²        -  \n",
       "2   170m²  185m²        -  \n",
       "3    80m²   86m²        -  \n",
       "4   115m²      -        -  \n",
       "5       -   95m²        -  \n",
       "6    78m²   85m²        -  \n",
       "7       -      -        -  \n",
       "8    63m²   63m²     63m²  \n",
       "9    40m²   40m²     40m²  \n",
       "10   89m²  137m²        -  \n",
       "11   95m²  110m²        -  \n",
       "12   65m²      -        -  \n",
       "13  237m²  405m²        -  \n",
       "14  180m²  200m²        -  \n",
       "15  186m²  202m²        -  \n",
       "16  108m²  108m²        -  \n",
       "17  102m²  129m²        -  \n",
       "18  135m²  147m²        -  \n",
       "19  182m²  182m²  2 104m²  \n",
       "20   55m²   60m²        -  \n",
       "21  100m²  110m²        -  \n",
       "22  126m²  120m²    350m²  \n",
       "23  106m²  106m²    106m²  \n",
       "24   70m²   70m²     86m²  "
      ]
     },
     "execution_count": 18,
     "metadata": {},
     "output_type": "execute_result"
    }
   ],
   "source": [
    "cols = ['v1','v2','v3','v4','v5','v6','v7','v8']\n",
    "df = pd.DataFrame({'v1':titles, 'v2':locations,'v3':ptypes,'v4':prices,\n",
    "                   'v5':conditions,'v6':net_areas,'v7':floor_areas,'v8':construct_areas})\n",
    "df"
   ]
  },
  {
   "cell_type": "code",
   "execution_count": null,
   "metadata": {},
   "outputs": [],
   "source": []
  }
 ],
 "metadata": {
  "kernelspec": {
   "display_name": "Python 3",
   "language": "python",
   "name": "python3"
  },
  "language_info": {
   "codemirror_mode": {
    "name": "ipython",
    "version": 3
   },
   "file_extension": ".py",
   "mimetype": "text/x-python",
   "name": "python",
   "nbconvert_exporter": "python",
   "pygments_lexer": "ipython3",
   "version": "3.7.1"
  }
 },
 "nbformat": 4,
 "nbformat_minor": 2
}
