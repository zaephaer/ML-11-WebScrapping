{
 "cells": [
  {
   "cell_type": "markdown",
   "metadata": {},
   "source": [
    "# Web Scraping using Beautiful Soup"
   ]
  },
  {
   "cell_type": "markdown",
   "metadata": {},
   "source": [
    "Objective: Web Scraping using Beautiful Soup (Tables)  \n",
    "Ref: https://erikrood.com/Python_References/web_scrape.html"
   ]
  },
  {
   "cell_type": "code",
   "execution_count": 1,
   "metadata": {},
   "outputs": [],
   "source": [
    "import requests\n",
    "import lxml.html as web\n",
    "import pandas as pd\n",
    "import numpy as np\n",
    "from bs4 import BeautifulSoup as soup"
   ]
  },
  {
   "cell_type": "code",
   "execution_count": 2,
   "metadata": {},
   "outputs": [],
   "source": [
    "url = ['https://pokemondb.net/pokedex/all']"
   ]
  },
  {
   "cell_type": "markdown",
   "metadata": {},
   "source": [
    "## Loop inside Parsed Webpage"
   ]
  },
  {
   "cell_type": "code",
   "execution_count": 3,
   "metadata": {},
   "outputs": [],
   "source": [
    "pokemons = []\n",
    "\n",
    "for x in url:\n",
    "    html = requests.get(x).text\n",
    "    page_soup = soup(html, \"html.parser\")\n",
    "    pokemon_tab = page_soup.find(\"tbody\")\n",
    "    \n",
    "    try:\n",
    "        for row in pokemon_tab.find_all('tr'):\n",
    "            cols = row.find_all('td')\n",
    "            if len(cols) == 10:\n",
    "                pokemons.append((x, cols[0].text.strip(), cols[1].text.strip(), cols[2].text.strip(), \n",
    "                                 cols[3].text.strip(), cols[4].text.strip(), cols[5].text.strip(), cols[6].text.strip(), \n",
    "                                 cols[7].text.strip(), cols[8].text.strip(), cols[9].text.strip()))\n",
    "    except: pass"
   ]
  },
  {
   "cell_type": "code",
   "execution_count": 4,
   "metadata": {},
   "outputs": [
    {
     "name": "stdout",
     "output_type": "stream",
     "text": [
      "Number of items in the container : 1853\n"
     ]
    }
   ],
   "source": [
    "print(\"Number of items in the container :\", len(pokemon_tab))"
   ]
  },
  {
   "cell_type": "markdown",
   "metadata": {},
   "source": [
    "## Calculate Contents"
   ]
  },
  {
   "cell_type": "code",
   "execution_count": 5,
   "metadata": {},
   "outputs": [
    {
     "data": {
      "text/plain": [
       "926"
      ]
     },
     "execution_count": 5,
     "metadata": {},
     "output_type": "execute_result"
    }
   ],
   "source": [
    "poke_array = np.asarray(pokemons)\n",
    "len(poke_array)"
   ]
  },
  {
   "cell_type": "markdown",
   "metadata": {},
   "source": [
    "## Create Dataframe"
   ]
  },
  {
   "cell_type": "code",
   "execution_count": 6,
   "metadata": {},
   "outputs": [
    {
     "name": "stdout",
     "output_type": "stream",
     "text": [
      "(926, 11)\n"
     ]
    },
    {
     "data": {
      "text/html": [
       "<div>\n",
       "<style scoped>\n",
       "    .dataframe tbody tr th:only-of-type {\n",
       "        vertical-align: middle;\n",
       "    }\n",
       "\n",
       "    .dataframe tbody tr th {\n",
       "        vertical-align: top;\n",
       "    }\n",
       "\n",
       "    .dataframe thead th {\n",
       "        text-align: right;\n",
       "    }\n",
       "</style>\n",
       "<table border=\"1\" class=\"dataframe\">\n",
       "  <thead>\n",
       "    <tr style=\"text-align: right;\">\n",
       "      <th></th>\n",
       "      <th>Link</th>\n",
       "      <th>#</th>\n",
       "      <th>Name</th>\n",
       "      <th>Type</th>\n",
       "      <th>Total</th>\n",
       "      <th>HP</th>\n",
       "      <th>Attack</th>\n",
       "      <th>Defense</th>\n",
       "      <th>Sp.Atk</th>\n",
       "      <th>Sp.Def</th>\n",
       "      <th>Speed</th>\n",
       "    </tr>\n",
       "  </thead>\n",
       "  <tbody>\n",
       "    <tr>\n",
       "      <th>0</th>\n",
       "      <td>https://pokemondb.net/pokedex/all</td>\n",
       "      <td>001</td>\n",
       "      <td>Bulbasaur</td>\n",
       "      <td>GrassPoison</td>\n",
       "      <td>318</td>\n",
       "      <td>45</td>\n",
       "      <td>49</td>\n",
       "      <td>49</td>\n",
       "      <td>65</td>\n",
       "      <td>65</td>\n",
       "      <td>45</td>\n",
       "    </tr>\n",
       "    <tr>\n",
       "      <th>1</th>\n",
       "      <td>https://pokemondb.net/pokedex/all</td>\n",
       "      <td>002</td>\n",
       "      <td>Ivysaur</td>\n",
       "      <td>GrassPoison</td>\n",
       "      <td>405</td>\n",
       "      <td>60</td>\n",
       "      <td>62</td>\n",
       "      <td>63</td>\n",
       "      <td>80</td>\n",
       "      <td>80</td>\n",
       "      <td>60</td>\n",
       "    </tr>\n",
       "    <tr>\n",
       "      <th>2</th>\n",
       "      <td>https://pokemondb.net/pokedex/all</td>\n",
       "      <td>003</td>\n",
       "      <td>Venusaur</td>\n",
       "      <td>GrassPoison</td>\n",
       "      <td>525</td>\n",
       "      <td>80</td>\n",
       "      <td>82</td>\n",
       "      <td>83</td>\n",
       "      <td>100</td>\n",
       "      <td>100</td>\n",
       "      <td>80</td>\n",
       "    </tr>\n",
       "    <tr>\n",
       "      <th>3</th>\n",
       "      <td>https://pokemondb.net/pokedex/all</td>\n",
       "      <td>003</td>\n",
       "      <td>VenusaurMega Venusaur</td>\n",
       "      <td>GrassPoison</td>\n",
       "      <td>625</td>\n",
       "      <td>80</td>\n",
       "      <td>100</td>\n",
       "      <td>123</td>\n",
       "      <td>122</td>\n",
       "      <td>120</td>\n",
       "      <td>80</td>\n",
       "    </tr>\n",
       "    <tr>\n",
       "      <th>4</th>\n",
       "      <td>https://pokemondb.net/pokedex/all</td>\n",
       "      <td>004</td>\n",
       "      <td>Charmander</td>\n",
       "      <td>Fire</td>\n",
       "      <td>309</td>\n",
       "      <td>39</td>\n",
       "      <td>52</td>\n",
       "      <td>43</td>\n",
       "      <td>60</td>\n",
       "      <td>50</td>\n",
       "      <td>65</td>\n",
       "    </tr>\n",
       "    <tr>\n",
       "      <th>5</th>\n",
       "      <td>https://pokemondb.net/pokedex/all</td>\n",
       "      <td>005</td>\n",
       "      <td>Charmeleon</td>\n",
       "      <td>Fire</td>\n",
       "      <td>405</td>\n",
       "      <td>58</td>\n",
       "      <td>64</td>\n",
       "      <td>58</td>\n",
       "      <td>80</td>\n",
       "      <td>65</td>\n",
       "      <td>80</td>\n",
       "    </tr>\n",
       "    <tr>\n",
       "      <th>6</th>\n",
       "      <td>https://pokemondb.net/pokedex/all</td>\n",
       "      <td>006</td>\n",
       "      <td>Charizard</td>\n",
       "      <td>FireFlying</td>\n",
       "      <td>534</td>\n",
       "      <td>78</td>\n",
       "      <td>84</td>\n",
       "      <td>78</td>\n",
       "      <td>109</td>\n",
       "      <td>85</td>\n",
       "      <td>100</td>\n",
       "    </tr>\n",
       "    <tr>\n",
       "      <th>7</th>\n",
       "      <td>https://pokemondb.net/pokedex/all</td>\n",
       "      <td>006</td>\n",
       "      <td>CharizardMega Charizard X</td>\n",
       "      <td>FireDragon</td>\n",
       "      <td>634</td>\n",
       "      <td>78</td>\n",
       "      <td>130</td>\n",
       "      <td>111</td>\n",
       "      <td>130</td>\n",
       "      <td>85</td>\n",
       "      <td>100</td>\n",
       "    </tr>\n",
       "    <tr>\n",
       "      <th>8</th>\n",
       "      <td>https://pokemondb.net/pokedex/all</td>\n",
       "      <td>006</td>\n",
       "      <td>CharizardMega Charizard Y</td>\n",
       "      <td>FireFlying</td>\n",
       "      <td>634</td>\n",
       "      <td>78</td>\n",
       "      <td>104</td>\n",
       "      <td>78</td>\n",
       "      <td>159</td>\n",
       "      <td>115</td>\n",
       "      <td>100</td>\n",
       "    </tr>\n",
       "    <tr>\n",
       "      <th>9</th>\n",
       "      <td>https://pokemondb.net/pokedex/all</td>\n",
       "      <td>007</td>\n",
       "      <td>Squirtle</td>\n",
       "      <td>Water</td>\n",
       "      <td>314</td>\n",
       "      <td>44</td>\n",
       "      <td>48</td>\n",
       "      <td>65</td>\n",
       "      <td>50</td>\n",
       "      <td>64</td>\n",
       "      <td>43</td>\n",
       "    </tr>\n",
       "  </tbody>\n",
       "</table>\n",
       "</div>"
      ],
      "text/plain": [
       "                                Link    #                       Name  \\\n",
       "0  https://pokemondb.net/pokedex/all  001                  Bulbasaur   \n",
       "1  https://pokemondb.net/pokedex/all  002                    Ivysaur   \n",
       "2  https://pokemondb.net/pokedex/all  003                   Venusaur   \n",
       "3  https://pokemondb.net/pokedex/all  003      VenusaurMega Venusaur   \n",
       "4  https://pokemondb.net/pokedex/all  004                 Charmander   \n",
       "5  https://pokemondb.net/pokedex/all  005                 Charmeleon   \n",
       "6  https://pokemondb.net/pokedex/all  006                  Charizard   \n",
       "7  https://pokemondb.net/pokedex/all  006  CharizardMega Charizard X   \n",
       "8  https://pokemondb.net/pokedex/all  006  CharizardMega Charizard Y   \n",
       "9  https://pokemondb.net/pokedex/all  007                   Squirtle   \n",
       "\n",
       "          Type Total  HP Attack Defense Sp.Atk Sp.Def Speed  \n",
       "0  GrassPoison   318  45     49      49     65     65    45  \n",
       "1  GrassPoison   405  60     62      63     80     80    60  \n",
       "2  GrassPoison   525  80     82      83    100    100    80  \n",
       "3  GrassPoison   625  80    100     123    122    120    80  \n",
       "4         Fire   309  39     52      43     60     50    65  \n",
       "5         Fire   405  58     64      58     80     65    80  \n",
       "6   FireFlying   534  78     84      78    109     85   100  \n",
       "7   FireDragon   634  78    130     111    130     85   100  \n",
       "8   FireFlying   634  78    104      78    159    115   100  \n",
       "9        Water   314  44     48      65     50     64    43  "
      ]
     },
     "execution_count": 6,
     "metadata": {},
     "output_type": "execute_result"
    }
   ],
   "source": [
    "df = pd.DataFrame(poke_array)\n",
    "df.columns = ['Link','#','Name','Type','Total','HP','Attack','Defense','Sp.Atk','Sp.Def','Speed']\n",
    "print(df.shape)\n",
    "df.head(10)"
   ]
  }
 ],
 "metadata": {
  "kernelspec": {
   "display_name": "Python 3",
   "language": "python",
   "name": "python3"
  },
  "language_info": {
   "codemirror_mode": {
    "name": "ipython",
    "version": 3
   },
   "file_extension": ".py",
   "mimetype": "text/x-python",
   "name": "python",
   "nbconvert_exporter": "python",
   "pygments_lexer": "ipython3",
   "version": "3.7.1"
  }
 },
 "nbformat": 4,
 "nbformat_minor": 2
}
