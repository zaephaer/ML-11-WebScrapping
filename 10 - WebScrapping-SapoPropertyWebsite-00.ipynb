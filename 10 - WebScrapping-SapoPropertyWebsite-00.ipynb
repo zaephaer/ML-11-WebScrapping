{
 "cells": [
  {
   "cell_type": "markdown",
   "metadata": {},
   "source": [
    "# Web Scraping using Beautiful Soup"
   ]
  },
  {
   "cell_type": "markdown",
   "metadata": {},
   "source": [
    "Objective: Web Scraping using Beautiful Soup  \n",
    "Ref: https://towardsdatascience.com/looking-for-a-house-build-a-web-scraper-to-help-you-5ab25badc83e"
   ]
  },
  {
   "cell_type": "code",
   "execution_count": 1,
   "metadata": {},
   "outputs": [],
   "source": [
    "from bs4 import BeautifulSoup\n",
    "from requests import get\n",
    "import pandas as pd\n",
    "import itertools\n",
    "import matplotlib.pyplot as plt\n",
    "import seaborn as sns\n",
    "sns.set()"
   ]
  },
  {
   "cell_type": "code",
   "execution_count": 2,
   "metadata": {},
   "outputs": [],
   "source": [
    "headers = ({'User-Agent':\n",
    "            'Mozilla/5.0 (Windows NT 6.1) AppleWebKit/537.36 (KHTML, like Gecko) Chrome/41.0.2228.0 Safari/537.36'})"
   ]
  },
  {
   "cell_type": "markdown",
   "metadata": {},
   "source": [
    "## Set Website and Test Communication"
   ]
  },
  {
   "cell_type": "code",
   "execution_count": 3,
   "metadata": {},
   "outputs": [
    {
     "name": "stdout",
     "output_type": "stream",
     "text": [
      "<Response [200]>\n"
     ]
    }
   ],
   "source": [
    "sapo = \"https://casa.sapo.pt/Venda/Apartamentos/?sa=11&or=10\"\n",
    "response = get(sapo, headers=headers)\n",
    "print(response)"
   ]
  },
  {
   "cell_type": "code",
   "execution_count": 4,
   "metadata": {},
   "outputs": [
    {
     "name": "stdout",
     "output_type": "stream",
     "text": [
      "\r\n",
      "\r\n",
      "<!DOCTYPE html>\r\n",
      "\r\n",
      "<html lang=\"pt-PT\">\r\n",
      "<head><title>\r\n",
      "\tCasas para Venda, Apartamentos Ofertas recentes no Distrito de Lisboa, CASA SAPO - Portal Nacional de Imobiliário\r\n",
      "</title><meta name=\"author\" content=\"CASA SAPO - Portal Nacional de Imobiliário - Janela Digital SA\" />\r\n",
      "    <meta name=\"application-name\" content=\"CASA SAPO - Portal Nacional de Imobiliário\" data-copyright=\"Janela Digital SA\" data-generated-time=\"11/03/2019 01:06\" />\r\n",
      "    \r\n",
      "<meta name=\"content-language\" content=\"pt-PT\" />\r\n",
      "<meta name=\"viewport\" content=\"width=device-width, initial-scale=1.0\" />\r\n",
      "<meta name=\"description\" content=\"Casas para Venda, Apartamentos Ofertas recentes no Distrito de Lisboa, Casas para Venda, Deseja comprar casa? No maior Portal Imobiliário Nacional temos milhares de apartamentos e moradias em Lisboa, no Porto e por todo o país.\" />\r\n",
      "<meta name=\"keywords\" content=\"Casas para Venda, Apartamentos Ofertas recentes no Distrito de Lisboa, Casas para Venda, venda, compra, comprar, casas, imóveis\n"
     ]
    }
   ],
   "source": [
    "print(response.text[:1000])"
   ]
  },
  {
   "cell_type": "markdown",
   "metadata": {},
   "source": [
    "## Create Container"
   ]
  },
  {
   "cell_type": "code",
   "execution_count": 5,
   "metadata": {},
   "outputs": [
    {
     "name": "stdout",
     "output_type": "stream",
     "text": [
      "Number of items in the container : 25\n"
     ]
    }
   ],
   "source": [
    "html_soup = BeautifulSoup(response.text, 'html.parser')\n",
    "house_containers = html_soup.find_all('div', class_=\"searchResultProperty\")\n",
    "print(\"Number of items in the container :\", len(house_containers))"
   ]
  },
  {
   "cell_type": "markdown",
   "metadata": {},
   "source": [
    "## Data / Variable Extraction"
   ]
  },
  {
   "cell_type": "code",
   "execution_count": 6,
   "metadata": {},
   "outputs": [
    {
     "data": {
      "text/plain": [
       "[<span>\n",
       "                         Apartamento T4, Oeiras e São Julião da Barra, Paço de Arcos e Caxias, Oeiras\n",
       "                     </span>,\n",
       " <span class=\"btnContactPVPI\" id=\"MC_PropertyInList_repProperties_btnContactPVPINormal_0\" onclick=\"ShowContactForm('a2297877-4394-11e9-b712-060000000057', '13', '5', true); return false;\" style=\"z-index: 9999;\">Contacte Anunciante</span>,\n",
       " <span>1 800 000 <strong title=\"Euro\">€</strong></span>]"
      ]
     },
     "execution_count": 6,
     "metadata": {},
     "output_type": "execute_result"
    }
   ],
   "source": [
    "first = house_containers[0]\n",
    "first.find_all('span')"
   ]
  },
  {
   "cell_type": "code",
   "execution_count": 8,
   "metadata": {},
   "outputs": [
    {
     "data": {
      "text/plain": [
       "<span>1 800 000 <strong title=\"Euro\">€</strong></span>"
      ]
     },
     "execution_count": 8,
     "metadata": {},
     "output_type": "execute_result"
    }
   ],
   "source": [
    "first.find_all('span')[2]"
   ]
  },
  {
   "cell_type": "code",
   "execution_count": 9,
   "metadata": {},
   "outputs": [
    {
     "name": "stdout",
     "output_type": "stream",
     "text": [
      "1800000\n",
      "<class 'int'>\n"
     ]
    }
   ],
   "source": [
    "#Price\n",
    "var_x = first.find_all('span')[2].text.replace('\\xa0','').replace('€','').strip()\n",
    "var_1 = int(''.join(itertools.takewhile(str.isdigit, var_x)))\n",
    "print(var_1)\n",
    "print(type(var_1))"
   ]
  },
  {
   "cell_type": "code",
   "execution_count": 10,
   "metadata": {},
   "outputs": [
    {
     "name": "stdout",
     "output_type": "stream",
     "text": [
      "Oeiras e São Julião da Barra\n"
     ]
    }
   ],
   "source": [
    "#Location\n",
    "var_y = first.find_all('p', class_=\"searchPropertyLocation\")[0].text\n",
    "var_2 = var_y[7:var_y.find(',')].strip()\n",
    "print(var_2)"
   ]
  },
  {
   "cell_type": "code",
   "execution_count": 11,
   "metadata": {},
   "outputs": [
    {
     "name": "stdout",
     "output_type": "stream",
     "text": [
      "251m²\n"
     ]
    }
   ],
   "source": [
    "#Area Size\n",
    "var_3 = first.find_all('p')[7].text\n",
    "print(var_3)"
   ]
  },
  {
   "cell_type": "markdown",
   "metadata": {},
   "source": [
    "## Declare Dataframe Formation"
   ]
  },
  {
   "cell_type": "code",
   "execution_count": 12,
   "metadata": {},
   "outputs": [],
   "source": [
    "titles = []\n",
    "#created = []\n",
    "prices = []\n",
    "areas = []\n",
    "zone = []\n",
    "condition = []\n",
    "#descriptions = []\n",
    "#urls = []\n",
    "#thumbnails = []"
   ]
  },
  {
   "cell_type": "markdown",
   "metadata": {},
   "source": [
    "## Scrap Data from Loop Pages"
   ]
  },
  {
   "cell_type": "code",
   "execution_count": 13,
   "metadata": {},
   "outputs": [
    {
     "name": "stdout",
     "output_type": "stream",
     "text": [
      "At least 1 pages scrapped, containing 25 properties.\n",
      "Wall time: 2.32 s\n"
     ]
    }
   ],
   "source": [
    "%%time\n",
    "\n",
    "n_pages = 0\n",
    "\n",
    "for page in range(0,900):\n",
    "    n_pages += 1\n",
    "    sapo_url = 'https://casa.sapo.pt/Venda/Apartamentos/?sa=11&lp=10000&or=10'+'&pn='+str(page)\n",
    "    r = get(sapo_url, headers=headers)\n",
    "    page_html = BeautifulSoup(r.text, 'html.parser')\n",
    "    house_containers = page_html.find_all('div', class_=\"searchResultProperty\")\n",
    "    if house_containers != []:\n",
    "        for container in house_containers:\n",
    "            \n",
    "            # Price            \n",
    "            price = container.find_all('span')[2].text\n",
    "            if price == 'Contacte Anunciante':\n",
    "                price = container.find_all('span')[3].text\n",
    "                if price.find('/') != -1:\n",
    "                    price = price[0:price.find('/')-1]\n",
    "            if price.find('/') != -1:\n",
    "                price = price[0:price.find('/')-1]\n",
    "            \n",
    "            price_ = [int(price[s]) for s in range(0,len(price)) if price[s].isdigit()]\n",
    "            price = ''\n",
    "            for x in price_:\n",
    "                price = price+str(x)\n",
    "            prices.append(int(price))\n",
    "\n",
    "            # Zone\n",
    "            location = container.find_all('p', class_=\"searchPropertyLocation\")[0].text\n",
    "            location = location[7:location.find(',')]\n",
    "            zone.append(location)\n",
    "\n",
    "            # Title\n",
    "            name = container.find_all('span')[0].text\n",
    "            titles.append(name)\n",
    "\n",
    "            # Status\n",
    "            status = container.find_all('p')[5].text\n",
    "            condition.append(status)\n",
    "\n",
    "            # Area\n",
    "            m2 = container.find_all('p')[9].text\n",
    "            if m2 != '-':\n",
    "                m2 = m2.replace('\\xa0','')\n",
    "                m2 = float(\"\".join(itertools.takewhile(str.isdigit, m2)))\n",
    "                areas.append(m2)\n",
    "                \n",
    "            else:\n",
    "                m2 = container.find_all('p')[7].text\n",
    "                if m2 != '-':\n",
    "                    m2 = m2.replace('\\xa0','')\n",
    "                    m2 = float(\"\".join(itertools.takewhile(str.isdigit, m2)))\n",
    "                    areas.append(m2)\n",
    "                else:\n",
    "                    areas.append(m2)\n",
    "\n",
    "        else:\n",
    "            break\n",
    "        sleep(ranint(1,2))\n",
    "\n",
    "print('At least {} pages scrapped, containing {} properties.' .format(n_pages, len(titles)))"
   ]
  },
  {
   "cell_type": "code",
   "execution_count": 15,
   "metadata": {},
   "outputs": [
    {
     "data": {
      "text/html": [
       "<div>\n",
       "<style scoped>\n",
       "    .dataframe tbody tr th:only-of-type {\n",
       "        vertical-align: middle;\n",
       "    }\n",
       "\n",
       "    .dataframe tbody tr th {\n",
       "        vertical-align: top;\n",
       "    }\n",
       "\n",
       "    .dataframe thead th {\n",
       "        text-align: right;\n",
       "    }\n",
       "</style>\n",
       "<table border=\"1\" class=\"dataframe\">\n",
       "  <thead>\n",
       "    <tr style=\"text-align: right;\">\n",
       "      <th></th>\n",
       "      <th>v1</th>\n",
       "      <th>v2</th>\n",
       "      <th>v3</th>\n",
       "      <th>v4</th>\n",
       "      <th>v5</th>\n",
       "    </tr>\n",
       "  </thead>\n",
       "  <tbody>\n",
       "    <tr>\n",
       "      <th>0</th>\n",
       "      <td>\\r\\n                        Apartamento T4, Oe...</td>\n",
       "      <td>1800000</td>\n",
       "      <td>590.0</td>\n",
       "      <td>Oeiras e São Julião da Barra</td>\n",
       "      <td>Novo</td>\n",
       "    </tr>\n",
       "    <tr>\n",
       "      <th>1</th>\n",
       "      <td>\\r\\n                        Apartamento T4, Pá...</td>\n",
       "      <td>562500</td>\n",
       "      <td>123.0</td>\n",
       "      <td>Páteo Bagatela (São Mamede)</td>\n",
       "      <td>Usado</td>\n",
       "    </tr>\n",
       "    <tr>\n",
       "      <th>2</th>\n",
       "      <td>\\r\\n                        Apartamento T2, Oe...</td>\n",
       "      <td>700000</td>\n",
       "      <td>244.0</td>\n",
       "      <td>Oeiras e São Julião da Barra</td>\n",
       "      <td>Novo</td>\n",
       "    </tr>\n",
       "    <tr>\n",
       "      <th>3</th>\n",
       "      <td>\\r\\n                        Apartamento T3, Oe...</td>\n",
       "      <td>885000</td>\n",
       "      <td>185.0</td>\n",
       "      <td>Oeiras e São Julião da Barra</td>\n",
       "      <td>Novo</td>\n",
       "    </tr>\n",
       "    <tr>\n",
       "      <th>4</th>\n",
       "      <td>\\r\\n                        Apartamento T3, Oe...</td>\n",
       "      <td>800000</td>\n",
       "      <td>177.0</td>\n",
       "      <td>Oeiras e São Julião da Barra</td>\n",
       "      <td>Novo</td>\n",
       "    </tr>\n",
       "    <tr>\n",
       "      <th>5</th>\n",
       "      <td>\\r\\n                        Apartamento T2, Oe...</td>\n",
       "      <td>660000</td>\n",
       "      <td>136.0</td>\n",
       "      <td>Oeiras e São Julião da Barra</td>\n",
       "      <td>Novo</td>\n",
       "    </tr>\n",
       "    <tr>\n",
       "      <th>6</th>\n",
       "      <td>\\r\\n                        Apartamento T3, Oe...</td>\n",
       "      <td>835000</td>\n",
       "      <td>185.0</td>\n",
       "      <td>Oeiras e São Julião da Barra</td>\n",
       "      <td>Novo</td>\n",
       "    </tr>\n",
       "    <tr>\n",
       "      <th>7</th>\n",
       "      <td>\\r\\n                        Apartamento T4, Oe...</td>\n",
       "      <td>1090000</td>\n",
       "      <td>250.0</td>\n",
       "      <td>Oeiras e São Julião da Barra</td>\n",
       "      <td>Novo</td>\n",
       "    </tr>\n",
       "    <tr>\n",
       "      <th>8</th>\n",
       "      <td>\\r\\n                        Apartamento T4, Oe...</td>\n",
       "      <td>1080000</td>\n",
       "      <td>250.0</td>\n",
       "      <td>Oeiras e São Julião da Barra</td>\n",
       "      <td>Novo</td>\n",
       "    </tr>\n",
       "    <tr>\n",
       "      <th>9</th>\n",
       "      <td>\\r\\n                        Apartamento T3, Ja...</td>\n",
       "      <td>325000</td>\n",
       "      <td>169.0</td>\n",
       "      <td>Jardim da Amoreira  (Ramada)</td>\n",
       "      <td>Usado</td>\n",
       "    </tr>\n",
       "    <tr>\n",
       "      <th>10</th>\n",
       "      <td>\\r\\n                        Apartamento T2, Pa...</td>\n",
       "      <td>215000</td>\n",
       "      <td>97.0</td>\n",
       "      <td>Parque Residencial do Almirante...</td>\n",
       "      <td>Usado</td>\n",
       "    </tr>\n",
       "    <tr>\n",
       "      <th>11</th>\n",
       "      <td>\\r\\n                        Apartamento T2, Qu...</td>\n",
       "      <td>268000</td>\n",
       "      <td>80.0</td>\n",
       "      <td>Quinta da Alagoa (Carcavelos)</td>\n",
       "      <td>Renovado</td>\n",
       "    </tr>\n",
       "    <tr>\n",
       "      <th>12</th>\n",
       "      <td>\\r\\n                        Apartamento T1 Dup...</td>\n",
       "      <td>310000</td>\n",
       "      <td>60.0</td>\n",
       "      <td>Estrela (Santa Isabel)</td>\n",
       "      <td>Recuperado</td>\n",
       "    </tr>\n",
       "    <tr>\n",
       "      <th>13</th>\n",
       "      <td>\\r\\n                        Apartamento T1, Al...</td>\n",
       "      <td>169000</td>\n",
       "      <td>30.0</td>\n",
       "      <td>Alfama (São Vicente de Fora)</td>\n",
       "      <td>Renovado</td>\n",
       "    </tr>\n",
       "    <tr>\n",
       "      <th>14</th>\n",
       "      <td>\\r\\n                        Apartamento T2, Av...</td>\n",
       "      <td>370000</td>\n",
       "      <td>80.0</td>\n",
       "      <td>Av. EUA (Alvalade)</td>\n",
       "      <td>Recuperado</td>\n",
       "    </tr>\n",
       "    <tr>\n",
       "      <th>15</th>\n",
       "      <td>\\r\\n                        Apartamento T2, Se...</td>\n",
       "      <td>130000</td>\n",
       "      <td>64.0</td>\n",
       "      <td>Serra da Amoreira (Ramada)</td>\n",
       "      <td>Recuperado</td>\n",
       "    </tr>\n",
       "    <tr>\n",
       "      <th>16</th>\n",
       "      <td>\\r\\n                        Apartamento T1, Ca...</td>\n",
       "      <td>190000</td>\n",
       "      <td>88.0</td>\n",
       "      <td>Carnaxide e Queijas</td>\n",
       "      <td>Usado</td>\n",
       "    </tr>\n",
       "    <tr>\n",
       "      <th>17</th>\n",
       "      <td>\\r\\n                        Apartamento T2, Sa...</td>\n",
       "      <td>110000</td>\n",
       "      <td>90.0</td>\n",
       "      <td>Santa Cruz(Centro)</td>\n",
       "      <td>Usado</td>\n",
       "    </tr>\n",
       "    <tr>\n",
       "      <th>18</th>\n",
       "      <td>\\r\\n                        Apartamento T1, Ba...</td>\n",
       "      <td>125000</td>\n",
       "      <td>72.0</td>\n",
       "      <td>Bairro das Fontaínhas (Cascais)</td>\n",
       "      <td>Usado</td>\n",
       "    </tr>\n",
       "    <tr>\n",
       "      <th>19</th>\n",
       "      <td>\\r\\n                        Apartamento T1, Pa...</td>\n",
       "      <td>279500</td>\n",
       "      <td>73.0</td>\n",
       "      <td>Parque das Nações</td>\n",
       "      <td>Usado</td>\n",
       "    </tr>\n",
       "    <tr>\n",
       "      <th>20</th>\n",
       "      <td>\\n\\n</td>\n",
       "      <td>225000</td>\n",
       "      <td>128.0</td>\n",
       "      <td>Alfragide</td>\n",
       "      <td>Usado</td>\n",
       "    </tr>\n",
       "    <tr>\n",
       "      <th>21</th>\n",
       "      <td>\\r\\n                        Estúdio, Santa Mar...</td>\n",
       "      <td>150000</td>\n",
       "      <td>16.0</td>\n",
       "      <td>Santa Maria Maior</td>\n",
       "      <td>Usado</td>\n",
       "    </tr>\n",
       "    <tr>\n",
       "      <th>22</th>\n",
       "      <td>\\r\\n                        Apartamento T4, Co...</td>\n",
       "      <td>269000</td>\n",
       "      <td>185.0</td>\n",
       "      <td>Conquinha (São Pedro e Santiago)</td>\n",
       "      <td>Recuperado</td>\n",
       "    </tr>\n",
       "    <tr>\n",
       "      <th>23</th>\n",
       "      <td>\\r\\n                        Apartamento T2, Qu...</td>\n",
       "      <td>160000</td>\n",
       "      <td>86.0</td>\n",
       "      <td>Quinta das Flores (Santo Antóni...</td>\n",
       "      <td>Usado</td>\n",
       "    </tr>\n",
       "    <tr>\n",
       "      <th>24</th>\n",
       "      <td>\\r\\n                        Apartamento T2, Es...</td>\n",
       "      <td>495000</td>\n",
       "      <td>115.0</td>\n",
       "      <td>Estrela (Lapa)</td>\n",
       "      <td>Recuperado</td>\n",
       "    </tr>\n",
       "  </tbody>\n",
       "</table>\n",
       "</div>"
      ],
      "text/plain": [
       "                                                   v1       v2     v3  \\\n",
       "0   \\r\\n                        Apartamento T4, Oe...  1800000  590.0   \n",
       "1   \\r\\n                        Apartamento T4, Pá...   562500  123.0   \n",
       "2   \\r\\n                        Apartamento T2, Oe...   700000  244.0   \n",
       "3   \\r\\n                        Apartamento T3, Oe...   885000  185.0   \n",
       "4   \\r\\n                        Apartamento T3, Oe...   800000  177.0   \n",
       "5   \\r\\n                        Apartamento T2, Oe...   660000  136.0   \n",
       "6   \\r\\n                        Apartamento T3, Oe...   835000  185.0   \n",
       "7   \\r\\n                        Apartamento T4, Oe...  1090000  250.0   \n",
       "8   \\r\\n                        Apartamento T4, Oe...  1080000  250.0   \n",
       "9   \\r\\n                        Apartamento T3, Ja...   325000  169.0   \n",
       "10  \\r\\n                        Apartamento T2, Pa...   215000   97.0   \n",
       "11  \\r\\n                        Apartamento T2, Qu...   268000   80.0   \n",
       "12  \\r\\n                        Apartamento T1 Dup...   310000   60.0   \n",
       "13  \\r\\n                        Apartamento T1, Al...   169000   30.0   \n",
       "14  \\r\\n                        Apartamento T2, Av...   370000   80.0   \n",
       "15  \\r\\n                        Apartamento T2, Se...   130000   64.0   \n",
       "16  \\r\\n                        Apartamento T1, Ca...   190000   88.0   \n",
       "17  \\r\\n                        Apartamento T2, Sa...   110000   90.0   \n",
       "18  \\r\\n                        Apartamento T1, Ba...   125000   72.0   \n",
       "19  \\r\\n                        Apartamento T1, Pa...   279500   73.0   \n",
       "20                                               \\n\\n   225000  128.0   \n",
       "21  \\r\\n                        Estúdio, Santa Mar...   150000   16.0   \n",
       "22  \\r\\n                        Apartamento T4, Co...   269000  185.0   \n",
       "23  \\r\\n                        Apartamento T2, Qu...   160000   86.0   \n",
       "24  \\r\\n                        Apartamento T2, Es...   495000  115.0   \n",
       "\n",
       "                                                   v4          v5  \n",
       "0                        Oeiras e São Julião da Barra        Novo  \n",
       "1                         Páteo Bagatela (São Mamede)       Usado  \n",
       "2                        Oeiras e São Julião da Barra        Novo  \n",
       "3                        Oeiras e São Julião da Barra        Novo  \n",
       "4                        Oeiras e São Julião da Barra        Novo  \n",
       "5                        Oeiras e São Julião da Barra        Novo  \n",
       "6                        Oeiras e São Julião da Barra        Novo  \n",
       "7                        Oeiras e São Julião da Barra        Novo  \n",
       "8                        Oeiras e São Julião da Barra        Novo  \n",
       "9                        Jardim da Amoreira  (Ramada)       Usado  \n",
       "10                 Parque Residencial do Almirante...       Usado  \n",
       "11                      Quinta da Alagoa (Carcavelos)    Renovado  \n",
       "12                             Estrela (Santa Isabel)  Recuperado  \n",
       "13                       Alfama (São Vicente de Fora)    Renovado  \n",
       "14                                 Av. EUA (Alvalade)  Recuperado  \n",
       "15                         Serra da Amoreira (Ramada)  Recuperado  \n",
       "16                                Carnaxide e Queijas       Usado  \n",
       "17                                 Santa Cruz(Centro)       Usado  \n",
       "18                    Bairro das Fontaínhas (Cascais)       Usado  \n",
       "19                                  Parque das Nações       Usado  \n",
       "20                                          Alfragide       Usado  \n",
       "21                                  Santa Maria Maior       Usado  \n",
       "22                   Conquinha (São Pedro e Santiago)  Recuperado  \n",
       "23                 Quinta das Flores (Santo Antóni...       Usado  \n",
       "24                                     Estrela (Lapa)  Recuperado  "
      ]
     },
     "execution_count": 15,
     "metadata": {},
     "output_type": "execute_result"
    }
   ],
   "source": [
    "cols = ['v1','v2','v3','v4','v5']\n",
    "df = pd.DataFrame({'v1':titles, 'v2':prices,'v3':areas,'v4':zone,'v5':condition})\n",
    "df"
   ]
  },
  {
   "cell_type": "code",
   "execution_count": null,
   "metadata": {},
   "outputs": [],
   "source": []
  }
 ],
 "metadata": {
  "kernelspec": {
   "display_name": "Python 3",
   "language": "python",
   "name": "python3"
  },
  "language_info": {
   "codemirror_mode": {
    "name": "ipython",
    "version": 3
   },
   "file_extension": ".py",
   "mimetype": "text/x-python",
   "name": "python",
   "nbconvert_exporter": "python",
   "pygments_lexer": "ipython3",
   "version": "3.7.1"
  }
 },
 "nbformat": 4,
 "nbformat_minor": 2
}
