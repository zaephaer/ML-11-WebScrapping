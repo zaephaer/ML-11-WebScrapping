{
 "cells": [
  {
   "cell_type": "markdown",
   "metadata": {},
   "source": [
    "# Web Scraping using Beautiful Soup"
   ]
  },
  {
   "cell_type": "markdown",
   "metadata": {},
   "source": [
    "Objective: Web Scraping using Beautiful Soup (Board Member from Multiple WebPage)  \n",
    "Ref: https://erikrood.com/Python_References/web_scrape.html"
   ]
  },
  {
   "cell_type": "code",
   "execution_count": 1,
   "metadata": {},
   "outputs": [],
   "source": [
    "import requests\n",
    "import lxml.html as web\n",
    "import pandas as pd\n",
    "import numpy as np\n",
    "from bs4 import BeautifulSoup as soup"
   ]
  },
  {
   "cell_type": "code",
   "execution_count": 2,
   "metadata": {},
   "outputs": [],
   "source": [
    "url = [\n",
    "'http://www.reuters.com/finance/stocks/company-officers/GOOG.O',\n",
    "'http://www.reuters.com/finance/stocks/company-officers/AMZN',\n",
    "'http://www.reuters.com/finance/stocks/company-officers/AAPL'\n",
    "]"
   ]
  },
  {
   "cell_type": "markdown",
   "metadata": {},
   "source": [
    "## Loop inside Parsed Webpage"
   ]
  },
  {
   "cell_type": "code",
   "execution_count": 3,
   "metadata": {},
   "outputs": [
    {
     "name": "stdout",
     "output_type": "stream",
     "text": [
      "Number of items in the container : 3\n"
     ]
    }
   ],
   "source": [
    "board_members = []\n",
    "\n",
    "for b in url:\n",
    "    html = requests.get(b).text\n",
    "    page_soup = soup(html, \"html.parser\")\n",
    "    officer_table = page_soup.find('table', {\"class\" : \"dataTable\"})\n",
    "    \n",
    "    try:\n",
    "        for row in officer_table.find_all('tr'):\n",
    "            cols = row.find_all('td')\n",
    "            if len(cols) == 4:\n",
    "                board_members.append((b, cols[0].text.strip(), cols[1].text.strip(), cols[2].text.strip(), cols[3].text.strip()))\n",
    "    except: pass\n",
    "\n",
    "print(\"Number of items in the container :\", len(officer_table))"
   ]
  },
  {
   "cell_type": "markdown",
   "metadata": {},
   "source": [
    "## Calculate Contents"
   ]
  },
  {
   "cell_type": "code",
   "execution_count": 4,
   "metadata": {},
   "outputs": [
    {
     "data": {
      "text/plain": [
       "51"
      ]
     },
     "execution_count": 4,
     "metadata": {},
     "output_type": "execute_result"
    }
   ],
   "source": [
    "board_array = np.asarray(board_members)\n",
    "len(board_array)"
   ]
  },
  {
   "cell_type": "markdown",
   "metadata": {},
   "source": [
    "## Create Dataframe"
   ]
  },
  {
   "cell_type": "code",
   "execution_count": 5,
   "metadata": {},
   "outputs": [
    {
     "name": "stdout",
     "output_type": "stream",
     "text": [
      "(51, 5)\n"
     ]
    },
    {
     "data": {
      "text/html": [
       "<div>\n",
       "<style scoped>\n",
       "    .dataframe tbody tr th:only-of-type {\n",
       "        vertical-align: middle;\n",
       "    }\n",
       "\n",
       "    .dataframe tbody tr th {\n",
       "        vertical-align: top;\n",
       "    }\n",
       "\n",
       "    .dataframe thead th {\n",
       "        text-align: right;\n",
       "    }\n",
       "</style>\n",
       "<table border=\"1\" class=\"dataframe\">\n",
       "  <thead>\n",
       "    <tr style=\"text-align: right;\">\n",
       "      <th></th>\n",
       "      <th>URL</th>\n",
       "      <th>Name</th>\n",
       "      <th>Age</th>\n",
       "      <th>Year_Joined</th>\n",
       "      <th>Title</th>\n",
       "    </tr>\n",
       "  </thead>\n",
       "  <tbody>\n",
       "    <tr>\n",
       "      <th>0</th>\n",
       "      <td>http://www.reuters.com/finance/stocks/company-...</td>\n",
       "      <td>John Hennessy</td>\n",
       "      <td>65</td>\n",
       "      <td>2018</td>\n",
       "      <td>Independent Chairman of the Board</td>\n",
       "    </tr>\n",
       "    <tr>\n",
       "      <th>1</th>\n",
       "      <td>http://www.reuters.com/finance/stocks/company-...</td>\n",
       "      <td>Sergey Brin</td>\n",
       "      <td>44</td>\n",
       "      <td>2015</td>\n",
       "      <td>President, Co-Founder, Director</td>\n",
       "    </tr>\n",
       "    <tr>\n",
       "      <th>2</th>\n",
       "      <td>http://www.reuters.com/finance/stocks/company-...</td>\n",
       "      <td>Lawrence Page</td>\n",
       "      <td>45</td>\n",
       "      <td>2015</td>\n",
       "      <td>Chief Executive Officer, Co-Founder, Director</td>\n",
       "    </tr>\n",
       "    <tr>\n",
       "      <th>3</th>\n",
       "      <td>http://www.reuters.com/finance/stocks/company-...</td>\n",
       "      <td>Ruth Porat</td>\n",
       "      <td>60</td>\n",
       "      <td>2015</td>\n",
       "      <td>Chief Financial Officer, Senior Vice President</td>\n",
       "    </tr>\n",
       "    <tr>\n",
       "      <th>4</th>\n",
       "      <td>http://www.reuters.com/finance/stocks/company-...</td>\n",
       "      <td>Sundar Pichai</td>\n",
       "      <td>46</td>\n",
       "      <td>2017</td>\n",
       "      <td>Chief Executive Officer of Google; Director</td>\n",
       "    </tr>\n",
       "    <tr>\n",
       "      <th>5</th>\n",
       "      <td>http://www.reuters.com/finance/stocks/company-...</td>\n",
       "      <td>David Drummond</td>\n",
       "      <td>55</td>\n",
       "      <td>2015</td>\n",
       "      <td>Senior Vice President - Corporate Development,...</td>\n",
       "    </tr>\n",
       "    <tr>\n",
       "      <th>6</th>\n",
       "      <td>http://www.reuters.com/finance/stocks/company-...</td>\n",
       "      <td>Diane Greene</td>\n",
       "      <td>62</td>\n",
       "      <td>2015</td>\n",
       "      <td>Senior Vice President, Chief Executive Officer...</td>\n",
       "    </tr>\n",
       "    <tr>\n",
       "      <th>7</th>\n",
       "      <td>http://www.reuters.com/finance/stocks/company-...</td>\n",
       "      <td>Eric Schmidt</td>\n",
       "      <td>62</td>\n",
       "      <td>2018</td>\n",
       "      <td>Director</td>\n",
       "    </tr>\n",
       "    <tr>\n",
       "      <th>8</th>\n",
       "      <td>http://www.reuters.com/finance/stocks/company-...</td>\n",
       "      <td>L. John Doerr</td>\n",
       "      <td>66</td>\n",
       "      <td>2016</td>\n",
       "      <td>Independent Director</td>\n",
       "    </tr>\n",
       "    <tr>\n",
       "      <th>9</th>\n",
       "      <td>http://www.reuters.com/finance/stocks/company-...</td>\n",
       "      <td>Roger Ferguson</td>\n",
       "      <td>66</td>\n",
       "      <td>2016</td>\n",
       "      <td>Independent Director</td>\n",
       "    </tr>\n",
       "  </tbody>\n",
       "</table>\n",
       "</div>"
      ],
      "text/plain": [
       "                                                 URL            Name Age  \\\n",
       "0  http://www.reuters.com/finance/stocks/company-...   John Hennessy  65   \n",
       "1  http://www.reuters.com/finance/stocks/company-...     Sergey Brin  44   \n",
       "2  http://www.reuters.com/finance/stocks/company-...   Lawrence Page  45   \n",
       "3  http://www.reuters.com/finance/stocks/company-...      Ruth Porat  60   \n",
       "4  http://www.reuters.com/finance/stocks/company-...   Sundar Pichai  46   \n",
       "5  http://www.reuters.com/finance/stocks/company-...  David Drummond  55   \n",
       "6  http://www.reuters.com/finance/stocks/company-...    Diane Greene  62   \n",
       "7  http://www.reuters.com/finance/stocks/company-...    Eric Schmidt  62   \n",
       "8  http://www.reuters.com/finance/stocks/company-...   L. John Doerr  66   \n",
       "9  http://www.reuters.com/finance/stocks/company-...  Roger Ferguson  66   \n",
       "\n",
       "  Year_Joined                                              Title  \n",
       "0        2018                  Independent Chairman of the Board  \n",
       "1        2015                    President, Co-Founder, Director  \n",
       "2        2015      Chief Executive Officer, Co-Founder, Director  \n",
       "3        2015     Chief Financial Officer, Senior Vice President  \n",
       "4        2017        Chief Executive Officer of Google; Director  \n",
       "5        2015  Senior Vice President - Corporate Development,...  \n",
       "6        2015  Senior Vice President, Chief Executive Officer...  \n",
       "7        2018                                           Director  \n",
       "8        2016                               Independent Director  \n",
       "9        2016                               Independent Director  "
      ]
     },
     "execution_count": 5,
     "metadata": {},
     "output_type": "execute_result"
    }
   ],
   "source": [
    "df = pd.DataFrame(board_array)\n",
    "df.columns = ['URL', 'Name', 'Age','Year_Joined', 'Title']\n",
    "print(df.shape)\n",
    "df.head(10)"
   ]
  }
 ],
 "metadata": {
  "kernelspec": {
   "display_name": "Python 3",
   "language": "python",
   "name": "python3"
  },
  "language_info": {
   "codemirror_mode": {
    "name": "ipython",
    "version": 3
   },
   "file_extension": ".py",
   "mimetype": "text/x-python",
   "name": "python",
   "nbconvert_exporter": "python",
   "pygments_lexer": "ipython3",
   "version": "3.7.1"
  }
 },
 "nbformat": 4,
 "nbformat_minor": 2
}
