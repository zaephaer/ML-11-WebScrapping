{
 "cells": [
  {
   "cell_type": "markdown",
   "metadata": {},
   "source": [
    "# Web Scraping with BeautifulSoup"
   ]
  },
  {
   "cell_type": "markdown",
   "metadata": {},
   "source": [
    "Objective: Web scrapping from Newegg - Graphic Card  \n",
    "Website: https://www.youtube.com/watch?v=XQgXKtPSzUI"
   ]
  },
  {
   "cell_type": "code",
   "execution_count": 1,
   "metadata": {},
   "outputs": [],
   "source": [
    "import bs4\n",
    "from urllib.request import urlopen as uReq\n",
    "from bs4 import BeautifulSoup as soup\n",
    "my_url = 'http://www.newegg.com/Video-Cards-Video-Devices/Category/ID-38?cm_sp=Tab_Components_3-_-visnav-_-Video-Graphic-Devices_1'"
   ]
  },
  {
   "cell_type": "code",
   "execution_count": 2,
   "metadata": {},
   "outputs": [],
   "source": [
    "#open web and grab page\n",
    "uClient = uReq(my_url)\n",
    "page_html = uClient.read()\n",
    "uClient.close()"
   ]
  },
  {
   "cell_type": "code",
   "execution_count": 3,
   "metadata": {},
   "outputs": [
    {
     "data": {
      "text/plain": [
       "<span class=\"noCSS\">Skip to:</span>"
      ]
     },
     "execution_count": 3,
     "metadata": {},
     "output_type": "execute_result"
    }
   ],
   "source": [
    "# html parser\n",
    "page_soup = soup(page_html, \"lxml\")\n",
    "#page_soup = soup(page_html, \"html.parser\")\n",
    "page_soup.body.span"
   ]
  },
  {
   "cell_type": "markdown",
   "metadata": {},
   "source": [
    "## Find Product Brand / Title"
   ]
  },
  {
   "cell_type": "code",
   "execution_count": 4,
   "metadata": {},
   "outputs": [
    {
     "name": "stdout",
     "output_type": "stream",
     "text": [
      "12\n",
      "<div class=\"item-info\">\n",
      "<!--brand info-->\n",
      "<div class=\"item-branding\">\n",
      "<a class=\"item-brand\" href=\"https://www.newegg.com/MSI/BrandStore/ID-1312\">\n",
      "<img alt=\"MSI\" class=\" lazy-img\" data-effect=\"fadeIn\" data-src=\"//c1.neweggimages.com/Brandimage_70x28//Brand1312.gif\" src=\"//c1.neweggimages.com/WebResource/Themes/2005/Nest/blank.gif\" title=\"MSI\"/>\n",
      "</a>\n",
      "<!--rating info-->\n",
      "</div>\n",
      "<!--description info-->\n",
      "<a class=\"item-title\" href=\"https://www.newegg.com/Product/Product.aspx?Item=N82E16814137391&amp;ignorebbr=1\" title=\"View Details\"><i class=\"icon-premier icon-premier-xsm\"></i>MSI GeForce GTX 1660 Ti GTX 1660 TI GAMING X 6G Video Card</a>\n",
      "<!--promption info-->\n",
      "<p class=\"item-promo\"></p>\n",
      "<!--feature-->\n",
      "<ul class=\"item-features\">\n",
      "<li><strong>DisplayPort:</strong> 3 x DisplayPort</li><li><strong>HDMI:</strong> 1 x HDMI</li><li><strong>Chipset Manufacturer:</strong> NVIDIA</li><li><strong>GPU Series:</strong> NVIDIA GeForce GTX 10 Series</li>\n",
      "<li><strong>Model #: </strong>GTX1660TiGAMING X 6G</li>\n",
      "<li><strong>Item #: </strong>N82E16814137391</li>\n",
      "</ul>\n",
      "<div class=\"item-action\">\n",
      "<!--price-->\n",
      "<ul class=\"price has-label-membership \">\n",
      "<li class=\"price-was\">\n",
      "</li>\n",
      "<li class=\"price-map\">\n",
      "</li>\n",
      "<li class=\"price-current\">\n",
      "<span class=\"price-current-label\">\n",
      "<a aria-label=\"Premier Price Explaination\" class=\"membership-info membership-popup\" data-neg-popid=\"MembershipPopup\" href=\"javascript:void(0);\" name=\"membership\" style=\"display: inline\"><span class=\"membership-icon\"></span><span style=\"display: none\">|</span></a>\n",
      "</span>$<strong>309</strong><sup>.99</sup> <a class=\"price-current-num\" href=\"https://www.newegg.com/Product/Product.aspx?Item=N82E16814137391&amp;buyingoptions=New&amp;ignorebbr=1\">(2 Offers)</a>\n",
      "<span class=\"price-current-range\">\n",
      "<abbr title=\"to\">–</abbr>\n",
      "</span>\n",
      "</li>\n",
      "<li class=\"price-save \">\n",
      "<span class=\"price-save-endtime price-save-endtime-current\"><strong>Sale Ends in 4 Days (Thu)</strong></span>\n",
      "<span class=\"price-save-endtime price-save-endtime-another\" style=\"display:none;\"><strong>Sale Ends in 02/28</strong></span>\n",
      "</li>\n",
      "<li class=\"price-note\">\n",
      "</li>\n",
      "<li class=\"price-ship\">\r\n",
      "        Free Shipping\r\n",
      "    </li>\n",
      "</ul>\n",
      "<!--egg point-->\n",
      "<!--financing-->\n",
      "<!--button-->\n",
      "<div class=\"item-operate hidden-action-button \">\n",
      "<div class=\"item-button-area\">\n",
      "<button class=\"btn btn-mini \" onclick=\"Javascript:Biz.ProductList.Item.add('https://www.newegg.com/Product/Product.aspx?Item=N82E16814137391&amp;ignorebbr=1');\" title=\"View Details\" type=\"button\">View Details <i class=\"fa fa-caret-right\"></i></button>\n",
      "</div>\n",
      "<!--compare-->\n",
      "<div class=\"item-compare-box\">\n",
      "<label class=\"form-checkbox\">\n",
      "<input autocomplete=\"off\" id=\"CompareItem_14-137-391\" name=\"CompareItem\" neg-itemnumber=\"14-137-391\" type=\"checkbox\" value=\"CompareItem_14-137-391\"/>\n",
      "<span class=\"form-checkbox-title\">Compare</span>\n",
      "</label>\n",
      "</div>\n",
      "<script type=\"text/javascript\">\r\n",
      "                        Biz.Product.CompareConfig.compareItems.push(\"14-137-391\");\r\n",
      "                        var itemThumbs = new Object();\r\n",
      "                        itemThumbs.itemNumber = \"14-137-391\";\r\n",
      "                        itemThumbs.imageUrl = \"//c1.neweggimages.com/ProductImageCompressAll35/14-137-391-V03.jpg\";\r\n",
      "                        Biz.Product.CompareConfig.Thumbs.push(itemThumbs);\r\n",
      "                    </script>\n",
      "</div>\n",
      "</div>\n",
      "</div>\n"
     ]
    }
   ],
   "source": [
    "#grab each product\n",
    "containers = page_soup.findAll(\"div\",{\"class\":\"item-info\"})\n",
    "print(len(containers))\n",
    "print(containers[0])"
   ]
  },
  {
   "cell_type": "code",
   "execution_count": 5,
   "metadata": {},
   "outputs": [
    {
     "data": {
      "text/plain": [
       "'MSI'"
      ]
     },
     "execution_count": 5,
     "metadata": {},
     "output_type": "execute_result"
    }
   ],
   "source": [
    "container = containers[0]\n",
    "container.div.a.img[\"title\"]"
   ]
  },
  {
   "cell_type": "markdown",
   "metadata": {},
   "source": [
    "## Find Product Title"
   ]
  },
  {
   "cell_type": "code",
   "execution_count": 6,
   "metadata": {},
   "outputs": [
    {
     "name": "stdout",
     "output_type": "stream",
     "text": [
      "1\n",
      "<a class=\"item-title\" href=\"https://www.newegg.com/Product/Product.aspx?Item=N82E16814137391&amp;ignorebbr=1\" title=\"View Details\"><i class=\"icon-premier icon-premier-xsm\"></i>MSI GeForce GTX 1660 Ti GTX 1660 TI GAMING X 6G Video Card</a>\n"
     ]
    }
   ],
   "source": [
    "title_container = container.findAll(\"a\",{\"class\":\"item-title\"})\n",
    "print(len(title_container))\n",
    "print(title_container[0])"
   ]
  },
  {
   "cell_type": "code",
   "execution_count": 7,
   "metadata": {},
   "outputs": [
    {
     "data": {
      "text/plain": [
       "'MSI GeForce GTX 1660 Ti GTX 1660 TI GAMING X 6G Video Card'"
      ]
     },
     "execution_count": 7,
     "metadata": {},
     "output_type": "execute_result"
    }
   ],
   "source": [
    "product_name = title_container[0].text\n",
    "product_name"
   ]
  },
  {
   "cell_type": "markdown",
   "metadata": {},
   "source": [
    "## Find Product Price"
   ]
  },
  {
   "cell_type": "code",
   "execution_count": 8,
   "metadata": {},
   "outputs": [
    {
     "name": "stdout",
     "output_type": "stream",
     "text": [
      "<li class=\"price-current\">\n",
      "<span class=\"price-current-label\">\n",
      "<a aria-label=\"Premier Price Explaination\" class=\"membership-info membership-popup\" data-neg-popid=\"MembershipPopup\" href=\"javascript:void(0);\" name=\"membership\" style=\"display: inline\"><span class=\"membership-icon\"></span><span style=\"display: none\">|</span></a>\n",
      "</span>$<strong>309</strong><sup>.99</sup> <a class=\"price-current-num\" href=\"https://www.newegg.com/Product/Product.aspx?Item=N82E16814137391&amp;buyingoptions=New&amp;ignorebbr=1\">(2 Offers)</a>\n",
      "<span class=\"price-current-range\">\n",
      "<abbr title=\"to\">–</abbr>\n",
      "</span>\n",
      "</li>\n"
     ]
    }
   ],
   "source": [
    "price = container.findAll(\"li\",{\"class\":\"price-current\"})\n",
    "print(price[0])"
   ]
  },
  {
   "cell_type": "code",
   "execution_count": 9,
   "metadata": {},
   "outputs": [
    {
     "data": {
      "text/plain": [
       "'|$309.99\\xa0(2 Offers)–'"
      ]
     },
     "execution_count": 9,
     "metadata": {},
     "output_type": "execute_result"
    }
   ],
   "source": [
    "pro_price = price[0]\n",
    "pro_price.text.replace(\"\\n\",\"\")"
   ]
  },
  {
   "cell_type": "markdown",
   "metadata": {},
   "source": [
    "## Find Product Shipping"
   ]
  },
  {
   "cell_type": "code",
   "execution_count": 10,
   "metadata": {},
   "outputs": [
    {
     "name": "stdout",
     "output_type": "stream",
     "text": [
      "<li class=\"price-ship\">\r\n",
      "        Free Shipping\r\n",
      "    </li>\n"
     ]
    }
   ],
   "source": [
    "ship = container.findAll(\"li\",{\"class\":\"price-ship\"})\n",
    "print(ship[0])"
   ]
  },
  {
   "cell_type": "code",
   "execution_count": 11,
   "metadata": {},
   "outputs": [
    {
     "data": {
      "text/plain": [
       "'Free Shipping'"
      ]
     },
     "execution_count": 11,
     "metadata": {},
     "output_type": "execute_result"
    }
   ],
   "source": [
    "shiping = ship[0].text.strip()\n",
    "shiping"
   ]
  },
  {
   "cell_type": "markdown",
   "metadata": {},
   "source": [
    "## Export to CSV"
   ]
  },
  {
   "cell_type": "code",
   "execution_count": 12,
   "metadata": {},
   "outputs": [
    {
     "data": {
      "text/plain": [
       "25"
      ]
     },
     "execution_count": 12,
     "metadata": {},
     "output_type": "execute_result"
    }
   ],
   "source": [
    "filename = \"gpcrad.csv\"\n",
    "f = open(filename, \"w\")\n",
    "\n",
    "headers = \"brand, product, shipping\\n\"\n",
    "f.write(headers)"
   ]
  },
  {
   "cell_type": "markdown",
   "metadata": {},
   "source": [
    "## Loop Findings"
   ]
  },
  {
   "cell_type": "code",
   "execution_count": 15,
   "metadata": {},
   "outputs": [
    {
     "name": "stdout",
     "output_type": "stream",
     "text": [
      "Brand   :MSI\n",
      "Product :MSI GeForce GTX 1660 Ti GTX 1660 TI GAMING X 6G Video Card\n",
      "Shiping :Free Shipping\n",
      "Brand   :GIGABYTE\n",
      "Product :GIGABYTE GeForce GTX 1660 Ti DirectX 12 GV-N166TWF2OC-6GD Video Card\n",
      "Shiping :Free Shipping\n",
      "Brand   :EVGA\n",
      "Product :EVGA GeForce RTX 2070 XC GAMING, 08G-P4-2172-KR, 8GB GDDR6, Dual HDB Fans & RGB LED\n",
      "Shiping :Free Shipping\n",
      "Brand   :ASUS\n",
      "Product :ASUS ROG GeForce RTX 2070 DirectX 12 ROG-STRIX-RTX2070-O8G-GAMING Video Card\n",
      "Shiping :Free Shipping\n",
      "Brand   :Sapphire Tech\n",
      "Product :Sapphire Radeon NITRO+ RX 580 8GB GDDR5 PCI-E Dual HDMI / DVI-D / Dual DP w/ Backplate SPECIAL EDITION (UEFI), 100411NT+8GSEL\n",
      "Shiping :Free Shipping\n",
      "Brand   :EVGA\n",
      "Product :EVGA GeForce RTX 2080 Ti FTW3 ULTRA GAMING, 11G-P4-2487-KR, 11GB GDDR6, iCX2 & RGB LED\n",
      "Shiping :Free Shipping\n",
      "Brand   :ASUS\n",
      "Product :ASUS AREZ Strix Radeon RX Vega 56 AREZ-STRIX-RXVEGA56-O8G-GAMING Video Card\n",
      "Shiping :Free Shipping\n",
      "Brand   :Sapphire Tech\n",
      "Product :Sapphire Radeon NITRO+ RX 580 8GB GDDR5 PCI-E Dual HDMI / DVI-D / Dual DP w/ Backplate (UEFI), 100411NT+8GL\n",
      "Shiping :Free Shipping\n",
      "Brand   :ZOTAC\n",
      "Product :ZOTAC GAMING GeForce RTX 2060 AMP 6GB GDDR6 192-bit Gaming Graphics Card, Super Compact, IceStorm 2.0, ZT-T20600D-10M\n",
      "Shiping :Free Shipping\n",
      "Brand   :MSI\n",
      "Product :MSI Radeon RX 580 DirectX 12 RX 580 ARMOR MK2 8G OC Video Card\n",
      "Shiping :Free Shipping\n",
      "Brand   :ASRock\n",
      "Product :ASRock Phantom Gaming X Radeon RX 590 DirectX 12 RX590 8G OC Video Card\n",
      "Shiping :Free Shipping\n",
      "Brand   :GIGABYTE\n",
      "Product :GIGABYTE GeForce RTX 2070 WINDFORCE 8G Graphics Card, 3 x WINDFORCE Fans, 8GB 256-Bit GDDR6, GV-N2070WF3-8GC Video Card\n",
      "Shiping :Free Shipping\n"
     ]
    }
   ],
   "source": [
    "for container in containers:\n",
    "    brand = container.div.a.img[\"title\"]\n",
    "    \n",
    "    title_container = container.findAll(\"a\",{\"class\":\"item-title\"})\n",
    "    product_name = title_container[0].text\n",
    "    \n",
    "    ship = container.findAll(\"li\",{\"class\":\"price-ship\"})\n",
    "    shiping = ship[0].text.strip()\n",
    "    \n",
    "    print(\"Brand   :\" + brand)\n",
    "    print(\"Product :\" + product_name)    \n",
    "    print(\"Shiping :\" + shiping)\n",
    "    \n",
    "    f.write(brand + \",\" + product_name.replace(\",\",\"|\") +\",\" + shiping +\"\\n\")\n",
    "f.close()"
   ]
  }
 ],
 "metadata": {
  "kernelspec": {
   "display_name": "Python 3",
   "language": "python",
   "name": "python3"
  },
  "language_info": {
   "codemirror_mode": {
    "name": "ipython",
    "version": 3
   },
   "file_extension": ".py",
   "mimetype": "text/x-python",
   "name": "python",
   "nbconvert_exporter": "python",
   "pygments_lexer": "ipython3",
   "version": "3.7.1"
  }
 },
 "nbformat": 4,
 "nbformat_minor": 2
}
