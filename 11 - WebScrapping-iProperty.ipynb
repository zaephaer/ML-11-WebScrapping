{
 "cells": [
  {
   "cell_type": "markdown",
   "metadata": {},
   "source": [
    "## Import Library"
   ]
  },
  {
   "cell_type": "code",
   "execution_count": 1,
   "metadata": {},
   "outputs": [],
   "source": [
    "import requests\n",
    "from bs4 import BeautifulSoup "
   ]
  },
  {
   "cell_type": "markdown",
   "metadata": {},
   "source": [
    "## Make Requests"
   ]
  },
  {
   "cell_type": "code",
   "execution_count": 2,
   "metadata": {},
   "outputs": [],
   "source": [
    "#simple get request\n",
    "url = requests.get(\"https://www.iproperty.com.my/sale/johor-bahru/all-residential/\")\n",
    "\n",
    "#post get request (submit form)\n",
    "#url = requests.post(\"http://xx.com/page\", data=dict(email=\"email@domain.com\", password=\"secret\"))\n",
    "\n",
    "#past query arguments (making search query)\n",
    "#url = requests.get(\"http://example.com/page\", params=dict(query=\"web_scraping\",page=2))"
   ]
  },
  {
   "cell_type": "markdown",
   "metadata": {},
   "source": [
    "## Test Communication"
   ]
  },
  {
   "cell_type": "code",
   "execution_count": 3,
   "metadata": {},
   "outputs": [
    {
     "name": "stdout",
     "output_type": "stream",
     "text": [
      "<Response [200]>\n"
     ]
    }
   ],
   "source": [
    "print(url)"
   ]
  },
  {
   "cell_type": "markdown",
   "metadata": {},
   "source": [
    "## Create Container"
   ]
  },
  {
   "cell_type": "code",
   "execution_count": 4,
   "metadata": {},
   "outputs": [
    {
     "name": "stdout",
     "output_type": "stream",
     "text": [
      "Number of items in the container : 20\n"
     ]
    }
   ],
   "source": [
    "soup = BeautifulSoup(url.text,\"html.parser\")\n",
    "containers = soup.find(\"div\",class_=\"sc-kJoYhb hmruXr\").find_all(\"div\",class_=\"sc-etRtft dRgBAD\")\n",
    "print(\"Number of items in the container :\", len(containers))\n",
    "#print(containers)"
   ]
  },
  {
   "cell_type": "markdown",
   "metadata": {},
   "source": [
    "## Data Extraction from First Container"
   ]
  },
  {
   "cell_type": "code",
   "execution_count": 5,
   "metadata": {},
   "outputs": [],
   "source": [
    "ctnr = containers[0]\n",
    "#print(block)\n",
    "\n",
    "var_1 = ctnr.find(\"div\",class_=\"sc-fWMzbn jgfrBD\").find(\"h2\").text   #Agent\n",
    "var_2 = ctnr.find(\"div\",class_=\"sc-fWMzbn jgfrBD\").find(\"p\").text    #DateTime Post\n",
    "var_3 = ctnr.find(\"div\",class_=\"sc-dDojKJ hnjxxG\").find(\"li\").text   #Price\n",
    "var_4 = ctnr.find(\"div\",class_=\"sc-dmXgXv mgPPl\").find(\"h3\").text    #Location\n",
    "var_5 = ctnr.find(\"div\",class_=\"sc-dmXgXv mgPPl\").find(\"p\").text     #DistrictState\n",
    "var_6 = ctnr.find(\"div\",class_=\"sc-bnOsYM eRhUcx\").find(\"p\").text    #PropertyType\n",
    "var_7 = ctnr.find(\"div\",class_=\"sc-bnOsYM eRhUcx\").find_all(\"li\")[0].find(\"a\").text.split(\" \")[3]   #BuiltSize\n",
    "var_8 = ctnr.find(\"div\",class_=\"sc-bnOsYM eRhUcx\").find_all(\"li\")[1].find(\"a\").text                 #Furnishing\n",
    "var_9 = ctnr.find(\"div\",class_=\"sc-cVVlNl kODzmT\").find_all(\"li\")[0].text                           #Bedroom\n",
    "var_10 = ctnr.find(\"div\",class_=\"sc-cVVlNl kODzmT\").find_all(\"li\")[1].text                          #Bathroom\n",
    "var_11 = ctnr.find(\"div\",class_=\"sc-cVVlNl kODzmT\").find_all(\"li\")[2].text                          #Parking"
   ]
  },
  {
   "cell_type": "code",
   "execution_count": 6,
   "metadata": {},
   "outputs": [
    {
     "name": "stdout",
     "output_type": "stream",
     "text": [
      "Shawn Teo\n",
      "Posted today 07:29 AM\n",
      "RM 1,500,000\n",
      "Eco Spring, Chester, Johor Bahru\n",
      "Johor Bahru, Johor\n",
      "Semi-detached House (Intermediate)\n",
      "42x80\n",
      "Fully Furnished\n",
      "4+1\n",
      "7\n",
      "2\n"
     ]
    }
   ],
   "source": [
    "print(var_1)\n",
    "print(var_2)\n",
    "print(var_3)\n",
    "print(var_4)\n",
    "print(var_5)\n",
    "print(var_6)\n",
    "print(var_7)\n",
    "print(var_8)\n",
    "print(var_9)\n",
    "print(var_10)\n",
    "print(var_11)"
   ]
  }
 ],
 "metadata": {
  "kernelspec": {
   "display_name": "Python 3",
   "language": "python",
   "name": "python3"
  },
  "language_info": {
   "codemirror_mode": {
    "name": "ipython",
    "version": 3
   },
   "file_extension": ".py",
   "mimetype": "text/x-python",
   "name": "python",
   "nbconvert_exporter": "python",
   "pygments_lexer": "ipython3",
   "version": "3.7.1"
  }
 },
 "nbformat": 4,
 "nbformat_minor": 2
}
